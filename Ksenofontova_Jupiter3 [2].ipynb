{
 "cells": [
  {
   "cell_type": "markdown",
   "metadata": {},
   "source": [
    "Выводы:\n",
    "\n",
    "1. digit:\n",
    "Лучшим классификатором можно считать SVM (f1 = 0.98). Также хороши VotingClassifier и RandomForest (f1 > 0.96). Стоит отметить, что некоторые алгоритмы не смогли набрать и f1 = 0.85. К ним относятся AdaBoostClassifier -- 0.734, NaiveBayes -- 0.819, DecisionTreeClassifier -- 0.85.\n",
    "\n",
    "2. breast_cancer:\n",
    "Лучший результат показал AdaBoostClassifier (f1 = 0.97). Также можно выделить VotingClassifier, RandomForeast и SVM (f1 = 0.95). При этом SVM исполняется значительно дольше других (около минуты).\n",
    "\n",
    "3. wine:\n",
    "Достаточно простой для анализа набор, Многие классификаторы исполняют работу моментально при итоговой f1 = 1. Среди них VotingClassifier, RandomForest, SVM, NaiveBase"
   ]
  },
  {
   "cell_type": "markdown",
   "metadata": {},
   "source": [
    "# DataSets"
   ]
  },
  {
   "cell_type": "code",
   "execution_count": 2,
   "metadata": {},
   "outputs": [],
   "source": [
    "# подгружаем датасеты из библиотеки Scikit Learn\n",
    "from sklearn import *\n",
    "# подгружаем разные модули из библиотеки SciPy для выполнения расчётов\n",
    "from scipy.io import arff\n",
    "import pandas\n",
    "import numpy\n",
    "import itertools\n",
    "from sklearn import model_selection as ms\n",
    "#некоторые классификаторы генерируют чересчур много ошибок\n",
    "import warnings\n",
    "warnings.filterwarnings('ignore')"
   ]
  },
  {
   "cell_type": "markdown",
   "metadata": {},
   "source": [
    "## 1.digits"
   ]
  },
  {
   "cell_type": "code",
   "execution_count": 116,
   "metadata": {
    "scrolled": false
   },
   "outputs": [
    {
     "data": {
      "text/html": [
       "<div>\n",
       "<style scoped>\n",
       "    .dataframe tbody tr th:only-of-type {\n",
       "        vertical-align: middle;\n",
       "    }\n",
       "\n",
       "    .dataframe tbody tr th {\n",
       "        vertical-align: top;\n",
       "    }\n",
       "\n",
       "    .dataframe thead th {\n",
       "        text-align: right;\n",
       "    }\n",
       "</style>\n",
       "<table border=\"1\" class=\"dataframe\">\n",
       "  <thead>\n",
       "    <tr style=\"text-align: right;\">\n",
       "      <th></th>\n",
       "      <th>0</th>\n",
       "      <th>1</th>\n",
       "      <th>2</th>\n",
       "      <th>3</th>\n",
       "      <th>4</th>\n",
       "      <th>5</th>\n",
       "      <th>6</th>\n",
       "      <th>7</th>\n",
       "      <th>8</th>\n",
       "      <th>9</th>\n",
       "      <th>...</th>\n",
       "      <th>55</th>\n",
       "      <th>56</th>\n",
       "      <th>57</th>\n",
       "      <th>58</th>\n",
       "      <th>59</th>\n",
       "      <th>60</th>\n",
       "      <th>61</th>\n",
       "      <th>62</th>\n",
       "      <th>63</th>\n",
       "      <th>target</th>\n",
       "    </tr>\n",
       "  </thead>\n",
       "  <tbody>\n",
       "    <tr>\n",
       "      <th>0</th>\n",
       "      <td>0.0</td>\n",
       "      <td>0.0</td>\n",
       "      <td>5.0</td>\n",
       "      <td>13.0</td>\n",
       "      <td>9.0</td>\n",
       "      <td>1.0</td>\n",
       "      <td>0.0</td>\n",
       "      <td>0.0</td>\n",
       "      <td>0.0</td>\n",
       "      <td>0.0</td>\n",
       "      <td>...</td>\n",
       "      <td>0.0</td>\n",
       "      <td>0.0</td>\n",
       "      <td>0.0</td>\n",
       "      <td>6.0</td>\n",
       "      <td>13.0</td>\n",
       "      <td>10.0</td>\n",
       "      <td>0.0</td>\n",
       "      <td>0.0</td>\n",
       "      <td>0.0</td>\n",
       "      <td>0</td>\n",
       "    </tr>\n",
       "    <tr>\n",
       "      <th>1</th>\n",
       "      <td>0.0</td>\n",
       "      <td>0.0</td>\n",
       "      <td>0.0</td>\n",
       "      <td>12.0</td>\n",
       "      <td>13.0</td>\n",
       "      <td>5.0</td>\n",
       "      <td>0.0</td>\n",
       "      <td>0.0</td>\n",
       "      <td>0.0</td>\n",
       "      <td>0.0</td>\n",
       "      <td>...</td>\n",
       "      <td>0.0</td>\n",
       "      <td>0.0</td>\n",
       "      <td>0.0</td>\n",
       "      <td>0.0</td>\n",
       "      <td>11.0</td>\n",
       "      <td>16.0</td>\n",
       "      <td>10.0</td>\n",
       "      <td>0.0</td>\n",
       "      <td>0.0</td>\n",
       "      <td>1</td>\n",
       "    </tr>\n",
       "    <tr>\n",
       "      <th>2</th>\n",
       "      <td>0.0</td>\n",
       "      <td>0.0</td>\n",
       "      <td>0.0</td>\n",
       "      <td>4.0</td>\n",
       "      <td>15.0</td>\n",
       "      <td>12.0</td>\n",
       "      <td>0.0</td>\n",
       "      <td>0.0</td>\n",
       "      <td>0.0</td>\n",
       "      <td>0.0</td>\n",
       "      <td>...</td>\n",
       "      <td>0.0</td>\n",
       "      <td>0.0</td>\n",
       "      <td>0.0</td>\n",
       "      <td>0.0</td>\n",
       "      <td>3.0</td>\n",
       "      <td>11.0</td>\n",
       "      <td>16.0</td>\n",
       "      <td>9.0</td>\n",
       "      <td>0.0</td>\n",
       "      <td>2</td>\n",
       "    </tr>\n",
       "    <tr>\n",
       "      <th>3</th>\n",
       "      <td>0.0</td>\n",
       "      <td>0.0</td>\n",
       "      <td>7.0</td>\n",
       "      <td>15.0</td>\n",
       "      <td>13.0</td>\n",
       "      <td>1.0</td>\n",
       "      <td>0.0</td>\n",
       "      <td>0.0</td>\n",
       "      <td>0.0</td>\n",
       "      <td>8.0</td>\n",
       "      <td>...</td>\n",
       "      <td>0.0</td>\n",
       "      <td>0.0</td>\n",
       "      <td>0.0</td>\n",
       "      <td>7.0</td>\n",
       "      <td>13.0</td>\n",
       "      <td>13.0</td>\n",
       "      <td>9.0</td>\n",
       "      <td>0.0</td>\n",
       "      <td>0.0</td>\n",
       "      <td>3</td>\n",
       "    </tr>\n",
       "    <tr>\n",
       "      <th>4</th>\n",
       "      <td>0.0</td>\n",
       "      <td>0.0</td>\n",
       "      <td>0.0</td>\n",
       "      <td>1.0</td>\n",
       "      <td>11.0</td>\n",
       "      <td>0.0</td>\n",
       "      <td>0.0</td>\n",
       "      <td>0.0</td>\n",
       "      <td>0.0</td>\n",
       "      <td>0.0</td>\n",
       "      <td>...</td>\n",
       "      <td>0.0</td>\n",
       "      <td>0.0</td>\n",
       "      <td>0.0</td>\n",
       "      <td>0.0</td>\n",
       "      <td>2.0</td>\n",
       "      <td>16.0</td>\n",
       "      <td>4.0</td>\n",
       "      <td>0.0</td>\n",
       "      <td>0.0</td>\n",
       "      <td>4</td>\n",
       "    </tr>\n",
       "  </tbody>\n",
       "</table>\n",
       "<p>5 rows × 65 columns</p>\n",
       "</div>"
      ],
      "text/plain": [
       "     0    1    2     3     4     5    6    7    8    9  ...   55   56   57  \\\n",
       "0  0.0  0.0  5.0  13.0   9.0   1.0  0.0  0.0  0.0  0.0  ...  0.0  0.0  0.0   \n",
       "1  0.0  0.0  0.0  12.0  13.0   5.0  0.0  0.0  0.0  0.0  ...  0.0  0.0  0.0   \n",
       "2  0.0  0.0  0.0   4.0  15.0  12.0  0.0  0.0  0.0  0.0  ...  0.0  0.0  0.0   \n",
       "3  0.0  0.0  7.0  15.0  13.0   1.0  0.0  0.0  0.0  8.0  ...  0.0  0.0  0.0   \n",
       "4  0.0  0.0  0.0   1.0  11.0   0.0  0.0  0.0  0.0  0.0  ...  0.0  0.0  0.0   \n",
       "\n",
       "    58    59    60    61   62   63  target  \n",
       "0  6.0  13.0  10.0   0.0  0.0  0.0       0  \n",
       "1  0.0  11.0  16.0  10.0  0.0  0.0       1  \n",
       "2  0.0   3.0  11.0  16.0  9.0  0.0       2  \n",
       "3  7.0  13.0  13.0   9.0  0.0  0.0       3  \n",
       "4  0.0   2.0  16.0   4.0  0.0  0.0       4  \n",
       "\n",
       "[5 rows x 65 columns]"
      ]
     },
     "execution_count": 116,
     "metadata": {},
     "output_type": "execute_result"
    }
   ],
   "source": [
    "dataset = datasets.load_digits()\n",
    "dataFrame = pandas.DataFrame(dataset.data)\n",
    "dataFrame['target'] = dataset.target\n",
    "dataFrame.head()"
   ]
  },
  {
   "cell_type": "code",
   "execution_count": 117,
   "metadata": {
    "scrolled": true
   },
   "outputs": [
    {
     "name": "stdout",
     "output_type": "stream",
     "text": [
      "1797 instances\n"
     ]
    }
   ],
   "source": [
    "target = dataFrame['target']\n",
    "data = dataFrame.drop(columns = ['target'])\n",
    "print('{} instances'.format(len(data)))"
   ]
  },
  {
   "cell_type": "markdown",
   "metadata": {},
   "source": [
    "###### preparation"
   ]
  },
  {
   "cell_type": "code",
   "execution_count": 118,
   "metadata": {},
   "outputs": [],
   "source": [
    "train_data, test_data, train_labels, test_labels =  model_selection.train_test_split(data, target, test_size = 0.2)\n",
    "folds = 10"
   ]
  },
  {
   "cell_type": "markdown",
   "metadata": {},
   "source": [
    "# Baseline "
   ]
  },
  {
   "cell_type": "code",
   "execution_count": 119,
   "metadata": {
    "scrolled": false
   },
   "outputs": [
    {
     "name": "stdout",
     "output_type": "stream",
     "text": [
      "F1 = 0.019\n",
      "              precision    recall  f1-score   support\n",
      "\n",
      "           0       0.00      0.00      0.00       178\n",
      "           1       0.00      0.00      0.00       182\n",
      "           2       0.00      0.00      0.00       177\n",
      "           3       0.10      1.00      0.18       183\n",
      "           4       0.00      0.00      0.00       181\n",
      "           5       0.00      0.00      0.00       182\n",
      "           6       0.00      0.00      0.00       181\n",
      "           7       0.00      0.00      0.00       179\n",
      "           8       0.00      0.00      0.00       174\n",
      "           9       0.00      0.00      0.00       180\n",
      "\n",
      "    accuracy                           0.10      1797\n",
      "   macro avg       0.01      0.10      0.02      1797\n",
      "weighted avg       0.01      0.10      0.02      1797\n",
      "\n"
     ]
    }
   ],
   "source": [
    "from sklearn import dummy, metrics\n",
    "\n",
    "baseline = dummy.DummyClassifier(strategy='most_frequent')\n",
    "\n",
    "baseline.fit (data, target)\n",
    "\n",
    "base_predictions = baseline.predict(data)\n",
    "\n",
    "f1 = metrics.f1_score(target, base_predictions, average='weighted')\n",
    "\n",
    "print (\"F1 = {:.3f}\".format(f1))\n",
    "\n",
    "print(metrics.classification_report(target, base_predictions))"
   ]
  },
  {
   "cell_type": "markdown",
   "metadata": {},
   "source": [
    "# Классификаторы"
   ]
  },
  {
   "cell_type": "markdown",
   "metadata": {},
   "source": [
    "## LogisticRegression "
   ]
  },
  {
   "cell_type": "code",
   "execution_count": 65,
   "metadata": {
    "scrolled": false
   },
   "outputs": [
    {
     "name": "stdout",
     "output_type": "stream",
     "text": [
      "Best hyper-parameters for accuracy: {'C': 1, 'penalty': 'l2', 'tol': 0.001}\n",
      "F1: 0.956\n",
      "Accuracy: 0.956\n",
      "              precision    recall  f1-score   support\n",
      "\n",
      "           0       1.00      1.00      1.00        35\n",
      "           1       1.00      0.95      0.97        40\n",
      "           2       0.97      1.00      0.98        32\n",
      "           3       0.97      0.97      0.97        40\n",
      "           4       0.96      0.98      0.97        45\n",
      "           5       1.00      0.97      0.99        36\n",
      "           6       0.96      0.96      0.96        27\n",
      "           7       0.94      0.91      0.93        34\n",
      "           8       0.84      0.91      0.88        35\n",
      "           9       0.91      0.89      0.90        36\n",
      "\n",
      "    accuracy                           0.96       360\n",
      "   macro avg       0.96      0.96      0.96       360\n",
      "weighted avg       0.96      0.96      0.96       360\n",
      "\n"
     ]
    },
    {
     "data": {
      "text/plain": [
       "<sklearn.metrics._plot.confusion_matrix.ConfusionMatrixDisplay at 0x11bc94c8>"
      ]
     },
     "execution_count": 65,
     "metadata": {},
     "output_type": "execute_result"
    },
    {
     "data": {
      "image/png": "[encoded data removed]",
      "text/plain": [
       "<Figure size 432x288 with 2 Axes>"
      ]
     },
     "metadata": {
      "needs_background": "light"
     },
     "output_type": "display_data"
    }
   ],
   "source": [
    "from sklearn import linear_model\n",
    "\n",
    "hyper_params = {'penalty': ['l1', 'l2', 'elasticnet', 'none'], #штрафы\n",
    "                'tol': [1e-3, 1e-4], #толерантность\n",
    "                'C': [1, 10, 100, 1000] #обратная сила регуляризации\n",
    "                   }\n",
    "\n",
    "grid = ms.GridSearchCV(linear_model.LogisticRegression(),\n",
    "                       hyper_params,\n",
    "                       refit=True,\n",
    "                       scoring=metrics.make_scorer(metrics.f1_score, average='weighted'),\n",
    "                       cv=ms.StratifiedKFold(n_splits=folds)\n",
    ")\n",
    "\n",
    "grid_best_model = grid.fit(train_data, train_labels)\n",
    "predictions = grid_best_model.predict(test_data)\n",
    "grid_best_model_f1 = metrics.f1_score(test_labels,\n",
    "                                      predictions, \n",
    "                                      average='weighted')\n",
    "grid_best_model_accuracy = metrics.accuracy_score(test_labels, predictions)\n",
    "\n",
    "print(\"Best hyper-parameters for accuracy: {}\".format(grid_best_model.best_params_))\n",
    "print (\"F1: {:.3f}\".format(grid_best_model_f1))\n",
    "print (\"Accuracy: {:.3f}\".format(grid_best_model_accuracy))\n",
    "print (metrics.classification_report(test_labels, predictions))\n",
    "\n",
    "metrics.plot_confusion_matrix(grid_best_model, test_data, test_labels)"
   ]
  },
  {
   "cell_type": "markdown",
   "metadata": {},
   "source": [
    "## SVM "
   ]
  },
  {
   "cell_type": "code",
   "execution_count": 66,
   "metadata": {},
   "outputs": [
    {
     "name": "stdout",
     "output_type": "stream",
     "text": [
      "Best hyper-parameters for accuracy: {'C': 1, 'gamma': 0.001, 'kernel': 'rbf'}\n",
      "F1: 0.994\n",
      "Accuracy: 0.994\n",
      "              precision    recall  f1-score   support\n",
      "\n",
      "           0       1.00      1.00      1.00        35\n",
      "           1       1.00      1.00      1.00        40\n",
      "           2       1.00      1.00      1.00        32\n",
      "           3       1.00      1.00      1.00        40\n",
      "           4       1.00      1.00      1.00        45\n",
      "           5       1.00      1.00      1.00        36\n",
      "           6       1.00      0.96      0.98        27\n",
      "           7       1.00      1.00      1.00        34\n",
      "           8       0.95      1.00      0.97        35\n",
      "           9       1.00      0.97      0.99        36\n",
      "\n",
      "    accuracy                           0.99       360\n",
      "   macro avg       0.99      0.99      0.99       360\n",
      "weighted avg       0.99      0.99      0.99       360\n",
      "\n"
     ]
    },
    {
     "data": {
      "text/plain": [
       "<sklearn.metrics._plot.confusion_matrix.ConfusionMatrixDisplay at 0x1208b088>"
      ]
     },
     "execution_count": 66,
     "metadata": {},
     "output_type": "execute_result"
    },
    {
     "data": {
      "image/png": "[encoded data removed]",
      "text/plain": [
       "<Figure size 432x288 with 2 Axes>"
      ]
     },
     "metadata": {
      "needs_background": "light"
     },
     "output_type": "display_data"
    }
   ],
   "source": [
    "hyper_params_svc = {'kernel': ['linear','poly','rbf'], #kernal function\n",
    "                    'gamma': [1e-3, 1e-4], #величина влияния отдельного обучающего примера\n",
    "                    'C': [1, 10, 100, 1000]\n",
    "                   }\n",
    "\n",
    "svm_grid = ms.GridSearchCV(svm.SVC(), \n",
    "                           hyper_params_svc,  # parameters to tune via cross validation\n",
    "                           refit=True,        # fit using all available data at the end, on the best found param combination\n",
    "                           scoring=metrics.make_scorer(metrics.f1_score, average='weighted'), \n",
    "                           cv=ms.StratifiedKFold(n_splits=folds)\n",
    ")\n",
    "\n",
    "svm_grid_best_model = svm_grid.fit(train_data, train_labels)\n",
    "predictions_svm = svm_grid_best_model.predict(test_data)\n",
    "svm_grid_best_model_f1 = metrics.f1_score(test_labels, \n",
    "                      predictions_svm, \n",
    "                      average='weighted')\n",
    "svm_grid_best_model_accuracy = metrics.accuracy_score(test_labels, predictions_svm)\n",
    "\n",
    "print(\"Best hyper-parameters for accuracy: {}\".format(svm_grid_best_model.best_params_))\n",
    "print (\"F1: {:.3f}\".format(svm_grid_best_model_f1))\n",
    "print (\"Accuracy: {:.3f}\".format(svm_grid_best_model_accuracy))\n",
    "print (metrics.classification_report(test_labels, predictions_svm))\n",
    "\n",
    "metrics.plot_confusion_matrix(svm_grid_best_model, test_data, test_labels)"
   ]
  },
  {
   "cell_type": "markdown",
   "metadata": {},
   "source": [
    "# DecisionTreeClassifier"
   ]
  },
  {
   "cell_type": "code",
   "execution_count": 67,
   "metadata": {
    "scrolled": false
   },
   "outputs": [
    {
     "name": "stdout",
     "output_type": "stream",
     "text": [
      "Best hyper-parameters for accuracy: {'max_depth': 10, 'max_features': None, 'min_samples_leaf': 3, 'presort': True}\n",
      "F1: 0.820\n",
      "Accuracy: 0.819\n",
      "              precision    recall  f1-score   support\n",
      "\n",
      "           0       0.97      0.94      0.96        35\n",
      "           1       0.73      0.80      0.76        40\n",
      "           2       0.82      0.97      0.89        32\n",
      "           3       0.83      0.72      0.77        40\n",
      "           4       0.87      0.76      0.81        45\n",
      "           5       0.88      0.83      0.86        36\n",
      "           6       0.92      0.89      0.91        27\n",
      "           7       0.75      0.79      0.77        34\n",
      "           8       0.76      0.74      0.75        35\n",
      "           9       0.72      0.81      0.76        36\n",
      "\n",
      "    accuracy                           0.82       360\n",
      "   macro avg       0.83      0.83      0.82       360\n",
      "weighted avg       0.82      0.82      0.82       360\n",
      "\n"
     ]
    },
    {
     "data": {
      "text/plain": [
       "<sklearn.metrics._plot.confusion_matrix.ConfusionMatrixDisplay at 0x11e89ac8>"
      ]
     },
     "execution_count": 67,
     "metadata": {},
     "output_type": "execute_result"
    },
    {
     "data": {
      "image/png": "[encoded data removed]",
      "text/plain": [
       "<Figure size 432x288 with 2 Axes>"
      ]
     },
     "metadata": {
      "needs_background": "light"
     },
     "output_type": "display_data"
    }
   ],
   "source": [
    "from sklearn import tree\n",
    "\n",
    "hyper_params = {'presort':[True, False], #предварительная сортировка\n",
    "                'max_depth' : [ 2, 3, 5, 7, 10], #максимальная глубина дерева\n",
    "                'max_features' : ['auto', 1, 2, 3, None], #число функций, которые стоит учитывать при внутреннем разделении\n",
    "                'min_samples_leaf' : [1, 2, 3, 4, 5]} #минимальное число выборок необходимое для внутреннего разделеня\n",
    "\n",
    "grid = ms.GridSearchCV(tree.DecisionTreeClassifier(),\n",
    "                       hyper_params,\n",
    "                       refit=True,\n",
    "                       scoring=metrics.make_scorer(metrics.f1_score, average='weighted'),\n",
    "                       cv=ms.StratifiedKFold(n_splits=folds)\n",
    ")\n",
    "\n",
    "grid_best_model = grid.fit(train_data, train_labels)\n",
    "predictions = grid_best_model.predict(test_data)\n",
    "grid_best_model_f1 = metrics.f1_score(test_labels,\n",
    "                                      predictions, \n",
    "                                      average='weighted')\n",
    "grid_best_model_accuracy = metrics.accuracy_score(test_labels, predictions)\n",
    "\n",
    "print(\"Best hyper-parameters for accuracy: {}\".format(grid_best_model.best_params_))\n",
    "print (\"F1: {:.3f}\".format(grid_best_model_f1))\n",
    "print (\"Accuracy: {:.3f}\".format(grid_best_model_accuracy))\n",
    "print (metrics.classification_report(test_labels, predictions))\n",
    "\n",
    "metrics.plot_confusion_matrix(grid_best_model, test_data, test_labels)"
   ]
  },
  {
   "cell_type": "markdown",
   "metadata": {},
   "source": [
    "# NaiveBayes"
   ]
  },
  {
   "cell_type": "code",
   "execution_count": 68,
   "metadata": {
    "scrolled": false
   },
   "outputs": [
    {
     "name": "stdout",
     "output_type": "stream",
     "text": [
      "F1: 0.846\n",
      "Accuracy: 0.844\n",
      "              precision    recall  f1-score   support\n",
      "\n",
      "           0       1.00      1.00      1.00        35\n",
      "           1       0.87      0.85      0.86        40\n",
      "           2       0.91      0.66      0.76        32\n",
      "           3       0.85      0.82      0.84        40\n",
      "           4       1.00      0.80      0.89        45\n",
      "           5       0.94      0.89      0.91        36\n",
      "           6       0.89      0.93      0.91        27\n",
      "           7       0.72      1.00      0.84        34\n",
      "           8       0.58      0.91      0.71        35\n",
      "           9       0.92      0.61      0.73        36\n",
      "\n",
      "    accuracy                           0.84       360\n",
      "   macro avg       0.87      0.85      0.85       360\n",
      "weighted avg       0.87      0.84      0.85       360\n",
      "\n"
     ]
    },
    {
     "data": {
      "text/plain": [
       "<sklearn.metrics._plot.confusion_matrix.ConfusionMatrixDisplay at 0x11e76cc8>"
      ]
     },
     "execution_count": 68,
     "metadata": {},
     "output_type": "execute_result"
    },
    {
     "data": {
      "image/png": "[encoded data removed]",
      "text/plain": [
       "<Figure size 432x288 with 2 Axes>"
      ]
     },
     "metadata": {
      "needs_background": "light"
     },
     "output_type": "display_data"
    }
   ],
   "source": [
    "from sklearn import naive_bayes\n",
    "\n",
    "hyper_params = {}\n",
    "\n",
    "grid = ms.GridSearchCV(naive_bayes.GaussianNB(),\n",
    "                       hyper_params,\n",
    "                       refit=True,\n",
    "                       scoring=metrics.make_scorer(metrics.f1_score, average='weighted'),\n",
    "                       cv=ms.StratifiedKFold(n_splits=folds)\n",
    ")\n",
    "\n",
    "grid_best_model = grid.fit(train_data, train_labels)\n",
    "predictions = grid_best_model.predict(test_data)\n",
    "grid_best_model_f1 = metrics.f1_score(test_labels,\n",
    "                                      predictions, \n",
    "                                      average='weighted')\n",
    "grid_best_model_accuracy = metrics.accuracy_score(test_labels, predictions)\n",
    "\n",
    "print (\"F1: {:.3f}\".format(grid_best_model_f1))\n",
    "print (\"Accuracy: {:.3f}\".format(grid_best_model_accuracy))\n",
    "print (metrics.classification_report(test_labels, predictions))\n",
    "\n",
    "metrics.plot_confusion_matrix(grid_best_model, test_data, test_labels)"
   ]
  },
  {
   "cell_type": "markdown",
   "metadata": {},
   "source": [
    "# RandomForestClassifier"
   ]
  },
  {
   "cell_type": "code",
   "execution_count": 69,
   "metadata": {
    "scrolled": false
   },
   "outputs": [
    {
     "name": "stdout",
     "output_type": "stream",
     "text": [
      "Best hyper-parameters for accuracy: {'max_depth': 13, 'n_estimators': 50}\n",
      "F1: 0.969\n",
      "Accuracy: 0.969\n",
      "              precision    recall  f1-score   support\n",
      "\n",
      "           0       1.00      1.00      1.00        35\n",
      "           1       0.98      1.00      0.99        40\n",
      "           2       0.97      0.97      0.97        32\n",
      "           3       0.95      0.93      0.94        40\n",
      "           4       1.00      0.98      0.99        45\n",
      "           5       1.00      1.00      1.00        36\n",
      "           6       1.00      1.00      1.00        27\n",
      "           7       0.94      1.00      0.97        34\n",
      "           8       0.91      0.89      0.90        35\n",
      "           9       0.94      0.94      0.94        36\n",
      "\n",
      "    accuracy                           0.97       360\n",
      "   macro avg       0.97      0.97      0.97       360\n",
      "weighted avg       0.97      0.97      0.97       360\n",
      "\n"
     ]
    },
    {
     "data": {
      "text/plain": [
       "<sklearn.metrics._plot.confusion_matrix.ConfusionMatrixDisplay at 0x11d30e08>"
      ]
     },
     "execution_count": 69,
     "metadata": {},
     "output_type": "execute_result"
    },
    {
     "data": {
      "image/png": "[encoded data removed]",
      "text/plain": [
       "<Figure size 432x288 with 2 Axes>"
      ]
     },
     "metadata": {
      "needs_background": "light"
     },
     "output_type": "display_data"
    }
   ],
   "source": [
    "from sklearn import ensemble\n",
    "\n",
    "hyper_params = {'max_depth' : [None, 8, 10, 13], #максимальная глубина\n",
    "                'n_estimators' : [10, 50, 100, 250]} #количество решающих деревьев\n",
    "\n",
    "grid = ms.GridSearchCV(ensemble.RandomForestClassifier(),\n",
    "                       hyper_params,\n",
    "                       refit=True,\n",
    "                       scoring=metrics.make_scorer(metrics.f1_score, average='weighted'),\n",
    "                       cv=ms.StratifiedKFold(n_splits=folds)\n",
    ")\n",
    "\n",
    "grid_best_model = grid.fit(train_data, train_labels)\n",
    "predictions = grid_best_model.predict(test_data)\n",
    "grid_best_model_f1 = metrics.f1_score(test_labels,\n",
    "                                      predictions, \n",
    "                                      average='weighted')\n",
    "grid_best_model_accuracy = metrics.accuracy_score(test_labels, predictions)\n",
    "\n",
    "print(\"Best hyper-parameters for accuracy: {}\".format(grid_best_model.best_params_))\n",
    "print (\"F1: {:.3f}\".format(grid_best_model_f1))\n",
    "print (\"Accuracy: {:.3f}\".format(grid_best_model_accuracy))\n",
    "print (metrics.classification_report(test_labels, predictions))\n",
    "\n",
    "metrics.plot_confusion_matrix(grid_best_model, test_data, test_labels)"
   ]
  },
  {
   "cell_type": "markdown",
   "metadata": {},
   "source": [
    "# AdaBoostClassifier"
   ]
  },
  {
   "cell_type": "code",
   "execution_count": 70,
   "metadata": {
    "scrolled": false
   },
   "outputs": [
    {
     "name": "stdout",
     "output_type": "stream",
     "text": [
      "Best hyper-parameters for accuracy: {'learning_rate': 0.5, 'n_estimators': 100}\n",
      "F1: 0.738\n",
      "Accuracy: 0.725\n",
      "              precision    recall  f1-score   support\n",
      "\n",
      "           0       1.00      0.89      0.94        35\n",
      "           1       0.53      0.45      0.49        40\n",
      "           2       0.92      0.75      0.83        32\n",
      "           3       0.82      0.68      0.74        40\n",
      "           4       0.93      0.62      0.75        45\n",
      "           5       0.88      0.78      0.82        36\n",
      "           6       0.81      0.78      0.79        27\n",
      "           7       0.83      0.74      0.78        34\n",
      "           8       0.40      0.94      0.56        35\n",
      "           9       0.74      0.72      0.73        36\n",
      "\n",
      "    accuracy                           0.73       360\n",
      "   macro avg       0.79      0.73      0.74       360\n",
      "weighted avg       0.79      0.72      0.74       360\n",
      "\n"
     ]
    },
    {
     "data": {
      "text/plain": [
       "<sklearn.metrics._plot.confusion_matrix.ConfusionMatrixDisplay at 0x13973c88>"
      ]
     },
     "execution_count": 70,
     "metadata": {},
     "output_type": "execute_result"
    },
    {
     "data": {
      "image/png": "[encoded data removed]",
      "text/plain": [
       "<Figure size 432x288 with 2 Axes>"
      ]
     },
     "metadata": {
      "needs_background": "light"
     },
     "output_type": "display_data"
    }
   ],
   "source": [
    "from sklearn import ensemble\n",
    "\n",
    "hyper_params = {'n_estimators' : [50, 100], #максимальная глубина\n",
    "                'learning_rate' : [1, 0.7, 0.5, 0.1]}  #скорость оубчения (число на которое умножается частная производная ошибки по каждому весу)\n",
    "\n",
    "grid = ms.GridSearchCV(ensemble.AdaBoostClassifier(),\n",
    "                       hyper_params,\n",
    "                       refit=True,\n",
    "                       scoring=metrics.make_scorer(metrics.f1_score, average='weighted'),\n",
    "                       cv=ms.StratifiedKFold(n_splits=folds)\n",
    ")\n",
    "\n",
    "grid_best_model = grid.fit(train_data, train_labels)\n",
    "predictions = grid_best_model.predict(test_data)\n",
    "grid_best_model_f1 = metrics.f1_score(test_labels,\n",
    "                                      predictions, \n",
    "                                      average='weighted')\n",
    "grid_best_model_accuracy = metrics.accuracy_score(test_labels, predictions)\n",
    "\n",
    "print(\"Best hyper-parameters for accuracy: {}\".format(grid_best_model.best_params_))\n",
    "print (\"F1: {:.3f}\".format(grid_best_model_f1))\n",
    "print (\"Accuracy: {:.3f}\".format(grid_best_model_accuracy))\n",
    "print (metrics.classification_report(test_labels, predictions))\n",
    "\n",
    "metrics.plot_confusion_matrix(grid_best_model, test_data, test_labels)"
   ]
  },
  {
   "cell_type": "markdown",
   "metadata": {},
   "source": [
    "# VotingClassifier"
   ]
  },
  {
   "cell_type": "code",
   "execution_count": 71,
   "metadata": {
    "scrolled": false
   },
   "outputs": [
    {
     "name": "stdout",
     "output_type": "stream",
     "text": [
      "Best hyper-parameters for accuracy: {'flatten_transform': False, 'n_jobs': -1, 'voting': 'hard'}\n",
      "F1: 0.969\n",
      "Accuracy: 0.969\n",
      "              precision    recall  f1-score   support\n",
      "\n",
      "           0       1.00      1.00      1.00        35\n",
      "           1       0.98      1.00      0.99        40\n",
      "           2       1.00      1.00      1.00        32\n",
      "           3       0.93      0.97      0.95        40\n",
      "           4       0.98      0.96      0.97        45\n",
      "           5       1.00      0.94      0.97        36\n",
      "           6       1.00      0.96      0.98        27\n",
      "           7       0.94      1.00      0.97        34\n",
      "           8       0.89      0.97      0.93        35\n",
      "           9       1.00      0.89      0.94        36\n",
      "\n",
      "    accuracy                           0.97       360\n",
      "   macro avg       0.97      0.97      0.97       360\n",
      "weighted avg       0.97      0.97      0.97       360\n",
      "\n"
     ]
    },
    {
     "data": {
      "text/plain": [
       "<sklearn.metrics._plot.confusion_matrix.ConfusionMatrixDisplay at 0x13bcd488>"
      ]
     },
     "execution_count": 71,
     "metadata": {},
     "output_type": "execute_result"
    },
    {
     "data": {
      "image/png": "[encoded data removed]",
      "text/plain": [
       "<Figure size 432x288 with 2 Axes>"
      ]
     },
     "metadata": {
      "needs_background": "light"
     },
     "output_type": "display_data"
    }
   ],
   "source": [
    "from sklearn import ensemble\n",
    "from sklearn.linear_model import LogisticRegression\n",
    "from sklearn.naive_bayes import GaussianNB\n",
    "from sklearn.ensemble import RandomForestClassifier\n",
    "\n",
    "#долго исполняется\n",
    "\n",
    "hyper_params = {'voting' : ['hard', 'soft'], #уточняющий параметр использования прогнозируемых меток \n",
    "                'n_jobs' : [None, -1, 1, 2, 3, 4, 8], #число параллельных заданий\n",
    "                'flatten_transform' :[True, False, None]} #только при soft, влияет на форму вывода\n",
    "\n",
    "grid = ms.GridSearchCV(ensemble.VotingClassifier(estimators=[ \n",
    "    ('lr', LogisticRegression()), \n",
    "    ('rf', RandomForestClassifier()), \n",
    "    ('gnb', GaussianNB())]),  \n",
    "                       hyper_params,\n",
    "                       refit=True,\n",
    "                       scoring=metrics.make_scorer(metrics.f1_score, average='weighted'),\n",
    "                       cv=ms.StratifiedKFold(n_splits=folds)\n",
    ")\n",
    "\n",
    "grid_best_model = grid.fit(train_data, train_labels)\n",
    "predictions = grid_best_model.predict(test_data)\n",
    "grid_best_model_f1 = metrics.f1_score(test_labels,\n",
    "                                      predictions, \n",
    "                                      average='weighted')\n",
    "grid_best_model_accuracy = metrics.accuracy_score(test_labels, predictions)\n",
    "\n",
    "print(\"Best hyper-parameters for accuracy: {}\".format(grid_best_model.best_params_))\n",
    "print (\"F1: {:.3f}\".format(grid_best_model_f1))\n",
    "print (\"Accuracy: {:.3f}\".format(grid_best_model_accuracy))\n",
    "print (metrics.classification_report(test_labels, predictions))\n",
    "\n",
    "metrics.plot_confusion_matrix(grid_best_model, test_data, test_labels)"
   ]
  },
  {
   "cell_type": "markdown",
   "metadata": {},
   "source": [
    "## 2. breast_cancer"
   ]
  },
  {
   "cell_type": "code",
   "execution_count": 3,
   "metadata": {
    "scrolled": true
   },
   "outputs": [
    {
     "data": {
      "text/html": [
       "<div>\n",
       "<style scoped>\n",
       "    .dataframe tbody tr th:only-of-type {\n",
       "        vertical-align: middle;\n",
       "    }\n",
       "\n",
       "    .dataframe tbody tr th {\n",
       "        vertical-align: top;\n",
       "    }\n",
       "\n",
       "    .dataframe thead th {\n",
       "        text-align: right;\n",
       "    }\n",
       "</style>\n",
       "<table border=\"1\" class=\"dataframe\">\n",
       "  <thead>\n",
       "    <tr style=\"text-align: right;\">\n",
       "      <th></th>\n",
       "      <th>0</th>\n",
       "      <th>1</th>\n",
       "      <th>2</th>\n",
       "      <th>3</th>\n",
       "      <th>4</th>\n",
       "      <th>5</th>\n",
       "      <th>6</th>\n",
       "      <th>7</th>\n",
       "      <th>8</th>\n",
       "      <th>9</th>\n",
       "      <th>...</th>\n",
       "      <th>21</th>\n",
       "      <th>22</th>\n",
       "      <th>23</th>\n",
       "      <th>24</th>\n",
       "      <th>25</th>\n",
       "      <th>26</th>\n",
       "      <th>27</th>\n",
       "      <th>28</th>\n",
       "      <th>29</th>\n",
       "      <th>target</th>\n",
       "    </tr>\n",
       "  </thead>\n",
       "  <tbody>\n",
       "    <tr>\n",
       "      <th>0</th>\n",
       "      <td>17.99</td>\n",
       "      <td>10.38</td>\n",
       "      <td>122.80</td>\n",
       "      <td>1001.0</td>\n",
       "      <td>0.11840</td>\n",
       "      <td>0.27760</td>\n",
       "      <td>0.3001</td>\n",
       "      <td>0.14710</td>\n",
       "      <td>0.2419</td>\n",
       "      <td>0.07871</td>\n",
       "      <td>...</td>\n",
       "      <td>17.33</td>\n",
       "      <td>184.60</td>\n",
       "      <td>2019.0</td>\n",
       "      <td>0.1622</td>\n",
       "      <td>0.6656</td>\n",
       "      <td>0.7119</td>\n",
       "      <td>0.2654</td>\n",
       "      <td>0.4601</td>\n",
       "      <td>0.11890</td>\n",
       "      <td>0</td>\n",
       "    </tr>\n",
       "    <tr>\n",
       "      <th>1</th>\n",
       "      <td>20.57</td>\n",
       "      <td>17.77</td>\n",
       "      <td>132.90</td>\n",
       "      <td>1326.0</td>\n",
       "      <td>0.08474</td>\n",
       "      <td>0.07864</td>\n",
       "      <td>0.0869</td>\n",
       "      <td>0.07017</td>\n",
       "      <td>0.1812</td>\n",
       "      <td>0.05667</td>\n",
       "      <td>...</td>\n",
       "      <td>23.41</td>\n",
       "      <td>158.80</td>\n",
       "      <td>1956.0</td>\n",
       "      <td>0.1238</td>\n",
       "      <td>0.1866</td>\n",
       "      <td>0.2416</td>\n",
       "      <td>0.1860</td>\n",
       "      <td>0.2750</td>\n",
       "      <td>0.08902</td>\n",
       "      <td>0</td>\n",
       "    </tr>\n",
       "    <tr>\n",
       "      <th>2</th>\n",
       "      <td>19.69</td>\n",
       "      <td>21.25</td>\n",
       "      <td>130.00</td>\n",
       "      <td>1203.0</td>\n",
       "      <td>0.10960</td>\n",
       "      <td>0.15990</td>\n",
       "      <td>0.1974</td>\n",
       "      <td>0.12790</td>\n",
       "      <td>0.2069</td>\n",
       "      <td>0.05999</td>\n",
       "      <td>...</td>\n",
       "      <td>25.53</td>\n",
       "      <td>152.50</td>\n",
       "      <td>1709.0</td>\n",
       "      <td>0.1444</td>\n",
       "      <td>0.4245</td>\n",
       "      <td>0.4504</td>\n",
       "      <td>0.2430</td>\n",
       "      <td>0.3613</td>\n",
       "      <td>0.08758</td>\n",
       "      <td>0</td>\n",
       "    </tr>\n",
       "    <tr>\n",
       "      <th>3</th>\n",
       "      <td>11.42</td>\n",
       "      <td>20.38</td>\n",
       "      <td>77.58</td>\n",
       "      <td>386.1</td>\n",
       "      <td>0.14250</td>\n",
       "      <td>0.28390</td>\n",
       "      <td>0.2414</td>\n",
       "      <td>0.10520</td>\n",
       "      <td>0.2597</td>\n",
       "      <td>0.09744</td>\n",
       "      <td>...</td>\n",
       "      <td>26.50</td>\n",
       "      <td>98.87</td>\n",
       "      <td>567.7</td>\n",
       "      <td>0.2098</td>\n",
       "      <td>0.8663</td>\n",
       "      <td>0.6869</td>\n",
       "      <td>0.2575</td>\n",
       "      <td>0.6638</td>\n",
       "      <td>0.17300</td>\n",
       "      <td>0</td>\n",
       "    </tr>\n",
       "    <tr>\n",
       "      <th>4</th>\n",
       "      <td>20.29</td>\n",
       "      <td>14.34</td>\n",
       "      <td>135.10</td>\n",
       "      <td>1297.0</td>\n",
       "      <td>0.10030</td>\n",
       "      <td>0.13280</td>\n",
       "      <td>0.1980</td>\n",
       "      <td>0.10430</td>\n",
       "      <td>0.1809</td>\n",
       "      <td>0.05883</td>\n",
       "      <td>...</td>\n",
       "      <td>16.67</td>\n",
       "      <td>152.20</td>\n",
       "      <td>1575.0</td>\n",
       "      <td>0.1374</td>\n",
       "      <td>0.2050</td>\n",
       "      <td>0.4000</td>\n",
       "      <td>0.1625</td>\n",
       "      <td>0.2364</td>\n",
       "      <td>0.07678</td>\n",
       "      <td>0</td>\n",
       "    </tr>\n",
       "  </tbody>\n",
       "</table>\n",
       "<p>5 rows × 31 columns</p>\n",
       "</div>"
      ],
      "text/plain": [
       "       0      1       2       3        4        5       6        7       8  \\\n",
       "0  17.99  10.38  122.80  1001.0  0.11840  0.27760  0.3001  0.14710  0.2419   \n",
       "1  20.57  17.77  132.90  1326.0  0.08474  0.07864  0.0869  0.07017  0.1812   \n",
       "2  19.69  21.25  130.00  1203.0  0.10960  0.15990  0.1974  0.12790  0.2069   \n",
       "3  11.42  20.38   77.58   386.1  0.14250  0.28390  0.2414  0.10520  0.2597   \n",
       "4  20.29  14.34  135.10  1297.0  0.10030  0.13280  0.1980  0.10430  0.1809   \n",
       "\n",
       "         9  ...     21      22      23      24      25      26      27  \\\n",
       "0  0.07871  ...  17.33  184.60  2019.0  0.1622  0.6656  0.7119  0.2654   \n",
       "1  0.05667  ...  23.41  158.80  1956.0  0.1238  0.1866  0.2416  0.1860   \n",
       "2  0.05999  ...  25.53  152.50  1709.0  0.1444  0.4245  0.4504  0.2430   \n",
       "3  0.09744  ...  26.50   98.87   567.7  0.2098  0.8663  0.6869  0.2575   \n",
       "4  0.05883  ...  16.67  152.20  1575.0  0.1374  0.2050  0.4000  0.1625   \n",
       "\n",
       "       28       29  target  \n",
       "0  0.4601  0.11890       0  \n",
       "1  0.2750  0.08902       0  \n",
       "2  0.3613  0.08758       0  \n",
       "3  0.6638  0.17300       0  \n",
       "4  0.2364  0.07678       0  \n",
       "\n",
       "[5 rows x 31 columns]"
      ]
     },
     "execution_count": 3,
     "metadata": {},
     "output_type": "execute_result"
    }
   ],
   "source": [
    "dataset = datasets.load_breast_cancer()\n",
    "dataFrame = pandas.DataFrame(dataset.data)\n",
    "dataFrame['target'] = dataset.target\n",
    "dataFrame.head()"
   ]
  },
  {
   "cell_type": "code",
   "execution_count": 4,
   "metadata": {
    "scrolled": true
   },
   "outputs": [
    {
     "name": "stdout",
     "output_type": "stream",
     "text": [
      "569 instances\n"
     ]
    }
   ],
   "source": [
    "target = dataFrame['target']\n",
    "data = dataFrame.drop(columns = ['target'])\n",
    "print('{} instances'.format(len(data)))"
   ]
  },
  {
   "cell_type": "markdown",
   "metadata": {},
   "source": [
    "###### preparation"
   ]
  },
  {
   "cell_type": "code",
   "execution_count": 5,
   "metadata": {},
   "outputs": [],
   "source": [
    "train_data, test_data, train_labels, test_labels = model_selection.train_test_split(data, target, test_size = 0.2)\n",
    "folds = 5"
   ]
  },
  {
   "cell_type": "markdown",
   "metadata": {},
   "source": [
    "# Baseline "
   ]
  },
  {
   "cell_type": "code",
   "execution_count": 5,
   "metadata": {
    "scrolled": false
   },
   "outputs": [
    {
     "name": "stdout",
     "output_type": "stream",
     "text": [
      "F1 = 0.484\n",
      "              precision    recall  f1-score   support\n",
      "\n",
      "           0       0.00      0.00      0.00       212\n",
      "           1       0.63      1.00      0.77       357\n",
      "\n",
      "    accuracy                           0.63       569\n",
      "   macro avg       0.31      0.50      0.39       569\n",
      "weighted avg       0.39      0.63      0.48       569\n",
      "\n"
     ]
    }
   ],
   "source": [
    "from sklearn import dummy, metrics\n",
    "\n",
    "baseline = dummy.DummyClassifier(strategy='most_frequent')\n",
    "\n",
    "baseline.fit (data, target)\n",
    "\n",
    "base_predictions = baseline.predict(data)\n",
    "\n",
    "f1 = metrics.f1_score(target, base_predictions, average='weighted')\n",
    "\n",
    "print (\"F1 = {:.3f}\".format(f1))\n",
    "\n",
    "print(metrics.classification_report(target, base_predictions))"
   ]
  },
  {
   "cell_type": "markdown",
   "metadata": {},
   "source": [
    "# Классификаторы"
   ]
  },
  {
   "cell_type": "markdown",
   "metadata": {},
   "source": [
    "## LogisticRegression "
   ]
  },
  {
   "cell_type": "code",
   "execution_count": 8,
   "metadata": {
    "scrolled": false
   },
   "outputs": [
    {
     "name": "stdout",
     "output_type": "stream",
     "text": [
      "Best hyper-parameters for accuracy: {'C': 1, 'penalty': 'none', 'tol': 0.001}\n",
      "F1: 0.956\n",
      "Accuracy: 0.956\n",
      "              precision    recall  f1-score   support\n",
      "\n",
      "           0       0.94      0.96      0.95        47\n",
      "           1       0.97      0.96      0.96        67\n",
      "\n",
      "    accuracy                           0.96       114\n",
      "   macro avg       0.95      0.96      0.95       114\n",
      "weighted avg       0.96      0.96      0.96       114\n",
      "\n"
     ]
    },
    {
     "data": {
      "image/png": "[encoded data removed]",
      "text/plain": [
       "<Figure size 432x288 with 2 Axes>"
      ]
     },
     "metadata": {
      "needs_background": "light"
     },
     "output_type": "display_data"
    }
   ],
   "source": [
    "from sklearn import linear_model\n",
    "\n",
    "hyper_params = {'penalty': ['l1', 'l2', 'elasticnet', 'none'],\n",
    "                'tol': [1e-3, 1e-4],\n",
    "                'C': [1, 10, 100, 1000]\n",
    "                   }\n",
    "\n",
    "grid = model_selection.GridSearchCV(linear_model.LogisticRegression(),\n",
    "                       hyper_params,\n",
    "                       refit=True,\n",
    "                       scoring=metrics.make_scorer(metrics.f1_score, average='weighted'),\n",
    "                       cv=model_selection.StratifiedKFold(n_splits=folds)\n",
    ")\n",
    "\n",
    "grid_best_model = grid.fit(train_data, train_labels)\n",
    "predictions = grid_best_model.predict(test_data)\n",
    "grid_best_model_f1 = metrics.f1_score(test_labels,\n",
    "                                      predictions, \n",
    "                                      average='weighted')\n",
    "grid_best_model_accuracy = metrics.accuracy_score(test_labels, predictions)\n",
    "\n",
    "print(\"Best hyper-parameters for accuracy: {}\".format(grid_best_model.best_params_))\n",
    "print (\"F1: {:.3f}\".format(grid_best_model_f1))\n",
    "print (\"Accuracy: {:.3f}\".format(grid_best_model_accuracy))\n",
    "print (metrics.classification_report(test_labels, predictions))\n",
    "\n",
    "metrics.plot_confusion_matrix(grid_best_model, test_data, test_labels)\n",
    "\n",
    "#генерируется очень много ошибок\n",
    "import warnings\n",
    "warnings.filterwarnings('ignore')"
   ]
  },
  {
   "cell_type": "markdown",
   "metadata": {},
   "source": [
    "## SVM "
   ]
  },
  {
   "cell_type": "code",
   "execution_count": 6,
   "metadata": {},
   "outputs": [
    {
     "name": "stdout",
     "output_type": "stream",
     "text": [
      "Best hyper-parameters for accuracy: {'C': 100, 'gamma': 0.001, 'kernel': 'linear'}\n",
      "F1: 0.974\n",
      "Accuracy: 0.974\n",
      "              precision    recall  f1-score   support\n",
      "\n",
      "           0       0.97      0.95      0.96        40\n",
      "           1       0.97      0.99      0.98        74\n",
      "\n",
      "    accuracy                           0.97       114\n",
      "   macro avg       0.97      0.97      0.97       114\n",
      "weighted avg       0.97      0.97      0.97       114\n",
      "\n"
     ]
    },
    {
     "data": {
      "text/plain": [
       "<sklearn.metrics._plot.confusion_matrix.ConfusionMatrixDisplay at 0xb05ee48>"
      ]
     },
     "execution_count": 6,
     "metadata": {},
     "output_type": "execute_result"
    },
    {
     "data": {
      "image/png": "[encoded data removed]",
      "text/plain": [
       "<Figure size 432x288 with 2 Axes>"
      ]
     },
     "metadata": {
      "needs_background": "light"
     },
     "output_type": "display_data"
    }
   ],
   "source": [
    "from sklearn import model_selection as ms\n",
    "\n",
    "#очень долго исполняется (около полутора-двух минут)\n",
    "#утром исполнялся около полутора часов\n",
    "\n",
    "hyper_params_svc = {'kernel': ['linear','poly','rbf'],\n",
    "                    'gamma': [1e-3, 1e-4],\n",
    "                    'C': [1, 10, 100, 1000]\n",
    "                   }\n",
    "\n",
    "svm_grid = ms.GridSearchCV(svm.SVC(), \n",
    "                           hyper_params_svc,  # parameters to tune via cross validation\n",
    "                           refit=True,        # fit using all available data at the end, on the best found param combination\n",
    "                           scoring=metrics.make_scorer(metrics.f1_score, average='weighted'), \n",
    "                           cv=ms.StratifiedKFold(n_splits=folds)\n",
    ")\n",
    "\n",
    "svm_grid_best_model = svm_grid.fit(train_data, train_labels)\n",
    "predictions_svm = svm_grid_best_model.predict(test_data)\n",
    "svm_grid_best_model_f1 = metrics.f1_score(test_labels, \n",
    "                      predictions_svm, \n",
    "                      average='weighted')\n",
    "svm_grid_best_model_accuracy = metrics.accuracy_score(test_labels, predictions_svm)\n",
    "\n",
    "print(\"Best hyper-parameters for accuracy: {}\".format(svm_grid_best_model.best_params_))\n",
    "print (\"F1: {:.3f}\".format(svm_grid_best_model_f1))\n",
    "print (\"Accuracy: {:.3f}\".format(svm_grid_best_model_accuracy))\n",
    "print (metrics.classification_report(test_labels, predictions_svm))\n",
    "\n",
    "metrics.plot_confusion_matrix(svm_grid_best_model, test_data, test_labels)"
   ]
  },
  {
   "cell_type": "markdown",
   "metadata": {},
   "source": [
    "# DecisionTreeClassifier"
   ]
  },
  {
   "cell_type": "code",
   "execution_count": 6,
   "metadata": {
    "scrolled": false
   },
   "outputs": [
    {
     "name": "stdout",
     "output_type": "stream",
     "text": [
      "Best hyper-parameters for accuracy: {'max_depth': 2, 'max_features': None, 'min_samples_leaf': 4, 'presort': True}\n",
      "F1: 0.894\n",
      "Accuracy: 0.895\n",
      "              precision    recall  f1-score   support\n",
      "\n",
      "           0       0.85      0.81      0.83        36\n",
      "           1       0.91      0.94      0.92        78\n",
      "\n",
      "    accuracy                           0.89       114\n",
      "   macro avg       0.88      0.87      0.88       114\n",
      "weighted avg       0.89      0.89      0.89       114\n",
      "\n"
     ]
    },
    {
     "data": {
      "text/plain": [
       "<sklearn.metrics._plot.confusion_matrix.ConfusionMatrixDisplay at 0xafeb708>"
      ]
     },
     "execution_count": 6,
     "metadata": {},
     "output_type": "execute_result"
    },
    {
     "data": {
      "image/png": "[encoded data removed]",
      "text/plain": [
       "<Figure size 432x288 with 2 Axes>"
      ]
     },
     "metadata": {
      "needs_background": "light"
     },
     "output_type": "display_data"
    }
   ],
   "source": [
    "from sklearn import tree\n",
    "\n",
    "#быстрый, классный\n",
    "\n",
    "hyper_params = {'presort':[True, False], \n",
    "                'max_depth' : [ 2, 3, 5, 7, 10], \n",
    "                'max_features' : ['auto', 1, 2, 3, None],\n",
    "                'min_samples_leaf' : [1, 2, 3, 4, 5]}\n",
    "\n",
    "grid = ms.GridSearchCV(tree.DecisionTreeClassifier(),\n",
    "                       hyper_params,\n",
    "                       refit=True,\n",
    "                       scoring=metrics.make_scorer(metrics.f1_score, average='weighted'),\n",
    "                       cv=ms.StratifiedKFold(n_splits=folds)\n",
    ")\n",
    "\n",
    "grid_best_model = grid.fit(train_data, train_labels)\n",
    "predictions = grid_best_model.predict(test_data)\n",
    "grid_best_model_f1 = metrics.f1_score(test_labels,\n",
    "                                      predictions, \n",
    "                                      average='weighted')\n",
    "grid_best_model_accuracy = metrics.accuracy_score(test_labels, predictions)\n",
    "\n",
    "print(\"Best hyper-parameters for accuracy: {}\".format(grid_best_model.best_params_))\n",
    "print (\"F1: {:.3f}\".format(grid_best_model_f1))\n",
    "print (\"Accuracy: {:.3f}\".format(grid_best_model_accuracy))\n",
    "print (metrics.classification_report(test_labels, predictions))\n",
    "\n",
    "metrics.plot_confusion_matrix(grid_best_model, test_data, test_labels)"
   ]
  },
  {
   "cell_type": "markdown",
   "metadata": {},
   "source": [
    "# NaiveBayes"
   ]
  },
  {
   "cell_type": "code",
   "execution_count": 7,
   "metadata": {
    "scrolled": false
   },
   "outputs": [
    {
     "name": "stdout",
     "output_type": "stream",
     "text": [
      "F1: 0.938\n",
      "Accuracy: 0.939\n",
      "              precision    recall  f1-score   support\n",
      "\n",
      "           0       0.94      0.86      0.90        36\n",
      "           1       0.94      0.97      0.96        78\n",
      "\n",
      "    accuracy                           0.94       114\n",
      "   macro avg       0.94      0.92      0.93       114\n",
      "weighted avg       0.94      0.94      0.94       114\n",
      "\n"
     ]
    },
    {
     "data": {
      "text/plain": [
       "<sklearn.metrics._plot.confusion_matrix.ConfusionMatrixDisplay at 0xaf1b6c8>"
      ]
     },
     "execution_count": 7,
     "metadata": {},
     "output_type": "execute_result"
    },
    {
     "data": {
      "image/png": "[encoded data removed]",
      "text/plain": [
       "<Figure size 432x288 with 2 Axes>"
      ]
     },
     "metadata": {
      "needs_background": "light"
     },
     "output_type": "display_data"
    }
   ],
   "source": [
    "from sklearn import naive_bayes\n",
    "\n",
    "hyper_params = {}\n",
    "\n",
    "grid = ms.GridSearchCV(naive_bayes.GaussianNB(),\n",
    "                       hyper_params,\n",
    "                       refit=True,\n",
    "                       scoring=metrics.make_scorer(metrics.f1_score, average='weighted'),\n",
    "                       cv=ms.StratifiedKFold(n_splits=folds)\n",
    ")\n",
    "\n",
    "grid_best_model = grid.fit(train_data, train_labels)\n",
    "predictions = grid_best_model.predict(test_data)\n",
    "grid_best_model_f1 = metrics.f1_score(test_labels,\n",
    "                                      predictions, \n",
    "                                      average='weighted')\n",
    "grid_best_model_accuracy = metrics.accuracy_score(test_labels, predictions)\n",
    "\n",
    "print (\"F1: {:.3f}\".format(grid_best_model_f1))\n",
    "print (\"Accuracy: {:.3f}\".format(grid_best_model_accuracy))\n",
    "print (metrics.classification_report(test_labels, predictions))\n",
    "\n",
    "metrics.plot_confusion_matrix(grid_best_model, test_data, test_labels)"
   ]
  },
  {
   "cell_type": "markdown",
   "metadata": {},
   "source": [
    "# RandomForestClassifier"
   ]
  },
  {
   "cell_type": "code",
   "execution_count": 8,
   "metadata": {
    "scrolled": false
   },
   "outputs": [
    {
     "name": "stdout",
     "output_type": "stream",
     "text": [
      "Best hyper-parameters for accuracy: {'max_depth': 13, 'n_estimators': 100}\n",
      "F1: 0.948\n",
      "Accuracy: 0.947\n",
      "              precision    recall  f1-score   support\n",
      "\n",
      "           0       0.89      0.94      0.92        36\n",
      "           1       0.97      0.95      0.96        78\n",
      "\n",
      "    accuracy                           0.95       114\n",
      "   macro avg       0.93      0.95      0.94       114\n",
      "weighted avg       0.95      0.95      0.95       114\n",
      "\n"
     ]
    },
    {
     "data": {
      "text/plain": [
       "<sklearn.metrics._plot.confusion_matrix.ConfusionMatrixDisplay at 0xc2d5ec8>"
      ]
     },
     "execution_count": 8,
     "metadata": {},
     "output_type": "execute_result"
    },
    {
     "data": {
      "image/png": "[encoded data removed]",
      "text/plain": [
       "<Figure size 432x288 with 2 Axes>"
      ]
     },
     "metadata": {
      "needs_background": "light"
     },
     "output_type": "display_data"
    }
   ],
   "source": [
    "from sklearn import ensemble\n",
    "\n",
    "hyper_params = {'max_depth' : [None, 8, 10, 13], #максимальная глубина\n",
    "                'n_estimators' : [10, 50, 100, 250]}#количество решающих деревьев\n",
    "\n",
    "grid = ms.GridSearchCV(ensemble.RandomForestClassifier(),\n",
    "                       hyper_params,\n",
    "                       refit=True,\n",
    "                       scoring=metrics.make_scorer(metrics.f1_score, average='weighted'),\n",
    "                       cv=ms.StratifiedKFold(n_splits=folds)\n",
    ")\n",
    "\n",
    "grid_best_model = grid.fit(train_data, train_labels)\n",
    "predictions = grid_best_model.predict(test_data)\n",
    "grid_best_model_f1 = metrics.f1_score(test_labels,\n",
    "                                      predictions, \n",
    "                                      average='weighted')\n",
    "grid_best_model_accuracy = metrics.accuracy_score(test_labels, predictions)\n",
    "\n",
    "print(\"Best hyper-parameters for accuracy: {}\".format(grid_best_model.best_params_))\n",
    "print (\"F1: {:.3f}\".format(grid_best_model_f1))\n",
    "print (\"Accuracy: {:.3f}\".format(grid_best_model_accuracy))\n",
    "print (metrics.classification_report(test_labels, predictions))\n",
    "\n",
    "metrics.plot_confusion_matrix(grid_best_model, test_data, test_labels)"
   ]
  },
  {
   "cell_type": "markdown",
   "metadata": {},
   "source": [
    "# AdaBoostClassifier"
   ]
  },
  {
   "cell_type": "code",
   "execution_count": 9,
   "metadata": {
    "scrolled": false
   },
   "outputs": [
    {
     "name": "stdout",
     "output_type": "stream",
     "text": [
      "Best hyper-parameters for accuracy: {'learning_rate': 1, 'n_estimators': 100}\n",
      "F1: 0.938\n",
      "Accuracy: 0.939\n",
      "              precision    recall  f1-score   support\n",
      "\n",
      "           0       0.91      0.89      0.90        36\n",
      "           1       0.95      0.96      0.96        78\n",
      "\n",
      "    accuracy                           0.94       114\n",
      "   macro avg       0.93      0.93      0.93       114\n",
      "weighted avg       0.94      0.94      0.94       114\n",
      "\n"
     ]
    },
    {
     "data": {
      "text/plain": [
       "<sklearn.metrics._plot.confusion_matrix.ConfusionMatrixDisplay at 0x4fb7408>"
      ]
     },
     "execution_count": 9,
     "metadata": {},
     "output_type": "execute_result"
    },
    {
     "data": {
      "image/png": "[encoded data removed]",
      "text/plain": [
       "<Figure size 432x288 with 2 Axes>"
      ]
     },
     "metadata": {
      "needs_background": "light"
     },
     "output_type": "display_data"
    }
   ],
   "source": [
    "from sklearn import ensemble\n",
    "\n",
    "hyper_params = {'n_estimators' : [50, 100], #максимальная глубина\n",
    "                'learning_rate' : [1, 0.7, 0.5, 0.1]}  #скорость оубчения (число на которое умножается частная производная ошибки по каждому весу)\n",
    "\n",
    "grid = ms.GridSearchCV(ensemble.AdaBoostClassifier(),\n",
    "                       hyper_params,\n",
    "                       refit=True,\n",
    "                       scoring=metrics.make_scorer(metrics.f1_score, average='weighted'),\n",
    "                       cv=ms.StratifiedKFold(n_splits=folds)\n",
    ")\n",
    "\n",
    "grid_best_model = grid.fit(train_data, train_labels)\n",
    "predictions = grid_best_model.predict(test_data)\n",
    "grid_best_model_f1 = metrics.f1_score(test_labels,\n",
    "                                      predictions, \n",
    "                                      average='weighted')\n",
    "grid_best_model_accuracy = metrics.accuracy_score(test_labels, predictions)\n",
    "\n",
    "print(\"Best hyper-parameters for accuracy: {}\".format(grid_best_model.best_params_))\n",
    "print (\"F1: {:.3f}\".format(grid_best_model_f1))\n",
    "print (\"Accuracy: {:.3f}\".format(grid_best_model_accuracy))\n",
    "print (metrics.classification_report(test_labels, predictions))\n",
    "\n",
    "metrics.plot_confusion_matrix(grid_best_model, test_data, test_labels)"
   ]
  },
  {
   "cell_type": "markdown",
   "metadata": {},
   "source": [
    "# VotingClassifier"
   ]
  },
  {
   "cell_type": "code",
   "execution_count": 10,
   "metadata": {
    "scrolled": false
   },
   "outputs": [
    {
     "name": "stdout",
     "output_type": "stream",
     "text": [
      "Best hyper-parameters for accuracy: {'flatten_transform': False, 'n_jobs': None, 'voting': 'hard'}\n",
      "F1: 0.955\n",
      "Accuracy: 0.956\n",
      "              precision    recall  f1-score   support\n",
      "\n",
      "           0       1.00      0.86      0.93        36\n",
      "           1       0.94      1.00      0.97        78\n",
      "\n",
      "    accuracy                           0.96       114\n",
      "   macro avg       0.97      0.93      0.95       114\n",
      "weighted avg       0.96      0.96      0.96       114\n",
      "\n"
     ]
    },
    {
     "data": {
      "text/plain": [
       "<sklearn.metrics._plot.confusion_matrix.ConfusionMatrixDisplay at 0xba01588>"
      ]
     },
     "execution_count": 10,
     "metadata": {},
     "output_type": "execute_result"
    },
    {
     "data": {
      "image/png": "[encoded data removed]",
      "text/plain": [
       "<Figure size 432x288 with 2 Axes>"
      ]
     },
     "metadata": {
      "needs_background": "light"
     },
     "output_type": "display_data"
    }
   ],
   "source": [
    "from sklearn import ensemble\n",
    "from sklearn.linear_model import LogisticRegression\n",
    "from sklearn.naive_bayes import GaussianNB\n",
    "from sklearn.ensemble import RandomForestClassifier\n",
    "\n",
    "hyper_params = {'voting' : ['hard', 'soft'], \n",
    "                'n_jobs' : [None, -1, 1, 2, 3, 4, 8],\n",
    "                'flatten_transform' :[True, False, None]}\n",
    "\n",
    "grid = ms.GridSearchCV(ensemble.VotingClassifier(estimators=[\n",
    "    ('lr', LogisticRegression()), \n",
    "    ('rf', RandomForestClassifier()), \n",
    "    ('gnb', GaussianNB())]), #TypeError: __init__() missing 1 required positional argument: 'estimators' \n",
    "                       hyper_params,\n",
    "                       refit=True,\n",
    "                       scoring=metrics.make_scorer(metrics.f1_score, average='weighted'),\n",
    "                       cv=ms.StratifiedKFold(n_splits=folds)\n",
    ")\n",
    "\n",
    "grid_best_model = grid.fit(train_data, train_labels)\n",
    "predictions = grid_best_model.predict(test_data)\n",
    "grid_best_model_f1 = metrics.f1_score(test_labels,\n",
    "                                      predictions, \n",
    "                                      average='weighted')\n",
    "grid_best_model_accuracy = metrics.accuracy_score(test_labels, predictions)\n",
    "\n",
    "print(\"Best hyper-parameters for accuracy: {}\".format(grid_best_model.best_params_))\n",
    "print (\"F1: {:.3f}\".format(grid_best_model_f1))\n",
    "print (\"Accuracy: {:.3f}\".format(grid_best_model_accuracy))\n",
    "print (metrics.classification_report(test_labels, predictions))\n",
    "\n",
    "metrics.plot_confusion_matrix(grid_best_model, test_data, test_labels)"
   ]
  },
  {
   "cell_type": "markdown",
   "metadata": {},
   "source": [
    "## 3. wine"
   ]
  },
  {
   "cell_type": "code",
   "execution_count": 95,
   "metadata": {
    "scrolled": true
   },
   "outputs": [
    {
     "data": {
      "text/html": [
       "<div>\n",
       "<style scoped>\n",
       "    .dataframe tbody tr th:only-of-type {\n",
       "        vertical-align: middle;\n",
       "    }\n",
       "\n",
       "    .dataframe tbody tr th {\n",
       "        vertical-align: top;\n",
       "    }\n",
       "\n",
       "    .dataframe thead th {\n",
       "        text-align: right;\n",
       "    }\n",
       "</style>\n",
       "<table border=\"1\" class=\"dataframe\">\n",
       "  <thead>\n",
       "    <tr style=\"text-align: right;\">\n",
       "      <th></th>\n",
       "      <th>0</th>\n",
       "      <th>1</th>\n",
       "      <th>2</th>\n",
       "      <th>3</th>\n",
       "      <th>4</th>\n",
       "      <th>5</th>\n",
       "      <th>6</th>\n",
       "      <th>7</th>\n",
       "      <th>8</th>\n",
       "      <th>9</th>\n",
       "      <th>10</th>\n",
       "      <th>11</th>\n",
       "      <th>12</th>\n",
       "      <th>target</th>\n",
       "    </tr>\n",
       "  </thead>\n",
       "  <tbody>\n",
       "    <tr>\n",
       "      <th>0</th>\n",
       "      <td>14.23</td>\n",
       "      <td>1.71</td>\n",
       "      <td>2.43</td>\n",
       "      <td>15.6</td>\n",
       "      <td>127.0</td>\n",
       "      <td>2.80</td>\n",
       "      <td>3.06</td>\n",
       "      <td>0.28</td>\n",
       "      <td>2.29</td>\n",
       "      <td>5.64</td>\n",
       "      <td>1.04</td>\n",
       "      <td>3.92</td>\n",
       "      <td>1065.0</td>\n",
       "      <td>0</td>\n",
       "    </tr>\n",
       "    <tr>\n",
       "      <th>1</th>\n",
       "      <td>13.20</td>\n",
       "      <td>1.78</td>\n",
       "      <td>2.14</td>\n",
       "      <td>11.2</td>\n",
       "      <td>100.0</td>\n",
       "      <td>2.65</td>\n",
       "      <td>2.76</td>\n",
       "      <td>0.26</td>\n",
       "      <td>1.28</td>\n",
       "      <td>4.38</td>\n",
       "      <td>1.05</td>\n",
       "      <td>3.40</td>\n",
       "      <td>1050.0</td>\n",
       "      <td>0</td>\n",
       "    </tr>\n",
       "    <tr>\n",
       "      <th>2</th>\n",
       "      <td>13.16</td>\n",
       "      <td>2.36</td>\n",
       "      <td>2.67</td>\n",
       "      <td>18.6</td>\n",
       "      <td>101.0</td>\n",
       "      <td>2.80</td>\n",
       "      <td>3.24</td>\n",
       "      <td>0.30</td>\n",
       "      <td>2.81</td>\n",
       "      <td>5.68</td>\n",
       "      <td>1.03</td>\n",
       "      <td>3.17</td>\n",
       "      <td>1185.0</td>\n",
       "      <td>0</td>\n",
       "    </tr>\n",
       "    <tr>\n",
       "      <th>3</th>\n",
       "      <td>14.37</td>\n",
       "      <td>1.95</td>\n",
       "      <td>2.50</td>\n",
       "      <td>16.8</td>\n",
       "      <td>113.0</td>\n",
       "      <td>3.85</td>\n",
       "      <td>3.49</td>\n",
       "      <td>0.24</td>\n",
       "      <td>2.18</td>\n",
       "      <td>7.80</td>\n",
       "      <td>0.86</td>\n",
       "      <td>3.45</td>\n",
       "      <td>1480.0</td>\n",
       "      <td>0</td>\n",
       "    </tr>\n",
       "    <tr>\n",
       "      <th>4</th>\n",
       "      <td>13.24</td>\n",
       "      <td>2.59</td>\n",
       "      <td>2.87</td>\n",
       "      <td>21.0</td>\n",
       "      <td>118.0</td>\n",
       "      <td>2.80</td>\n",
       "      <td>2.69</td>\n",
       "      <td>0.39</td>\n",
       "      <td>1.82</td>\n",
       "      <td>4.32</td>\n",
       "      <td>1.04</td>\n",
       "      <td>2.93</td>\n",
       "      <td>735.0</td>\n",
       "      <td>0</td>\n",
       "    </tr>\n",
       "  </tbody>\n",
       "</table>\n",
       "</div>"
      ],
      "text/plain": [
       "       0     1     2     3      4     5     6     7     8     9    10    11  \\\n",
       "0  14.23  1.71  2.43  15.6  127.0  2.80  3.06  0.28  2.29  5.64  1.04  3.92   \n",
       "1  13.20  1.78  2.14  11.2  100.0  2.65  2.76  0.26  1.28  4.38  1.05  3.40   \n",
       "2  13.16  2.36  2.67  18.6  101.0  2.80  3.24  0.30  2.81  5.68  1.03  3.17   \n",
       "3  14.37  1.95  2.50  16.8  113.0  3.85  3.49  0.24  2.18  7.80  0.86  3.45   \n",
       "4  13.24  2.59  2.87  21.0  118.0  2.80  2.69  0.39  1.82  4.32  1.04  2.93   \n",
       "\n",
       "       12  target  \n",
       "0  1065.0       0  \n",
       "1  1050.0       0  \n",
       "2  1185.0       0  \n",
       "3  1480.0       0  \n",
       "4   735.0       0  "
      ]
     },
     "execution_count": 95,
     "metadata": {},
     "output_type": "execute_result"
    }
   ],
   "source": [
    "dataset = datasets.load_wine()\n",
    "dataFrame = pandas.DataFrame(dataset.data)\n",
    "dataFrame['target'] = dataset.target\n",
    "dataFrame.head()"
   ]
  },
  {
   "cell_type": "code",
   "execution_count": 96,
   "metadata": {
    "scrolled": true
   },
   "outputs": [
    {
     "name": "stdout",
     "output_type": "stream",
     "text": [
      "178 instances\n"
     ]
    }
   ],
   "source": [
    "target = dataFrame['target']\n",
    "data = dataFrame.drop(columns = ['target'])\n",
    "print('{} instances'.format(len(data)))"
   ]
  },
  {
   "cell_type": "markdown",
   "metadata": {},
   "source": [
    "###### preparation"
   ]
  },
  {
   "cell_type": "code",
   "execution_count": 97,
   "metadata": {},
   "outputs": [],
   "source": [
    "train_data, test_data, train_labels, test_labels = model_selection.train_test_split(data, target, test_size = 0.2)\n",
    "folds = 3"
   ]
  },
  {
   "cell_type": "markdown",
   "metadata": {},
   "source": [
    "# Baseline "
   ]
  },
  {
   "cell_type": "code",
   "execution_count": 98,
   "metadata": {
    "scrolled": false
   },
   "outputs": [
    {
     "name": "stdout",
     "output_type": "stream",
     "text": [
      "F1 = 0.227\n",
      "              precision    recall  f1-score   support\n",
      "\n",
      "           0       0.00      0.00      0.00        59\n",
      "           1       0.40      1.00      0.57        71\n",
      "           2       0.00      0.00      0.00        48\n",
      "\n",
      "    accuracy                           0.40       178\n",
      "   macro avg       0.13      0.33      0.19       178\n",
      "weighted avg       0.16      0.40      0.23       178\n",
      "\n"
     ]
    }
   ],
   "source": [
    "from sklearn import dummy, metrics\n",
    "\n",
    "baseline = dummy.DummyClassifier(strategy='most_frequent')\n",
    "\n",
    "baseline.fit (data, target)\n",
    "\n",
    "base_predictions = baseline.predict(data)\n",
    "\n",
    "f1 = metrics.f1_score(target, base_predictions, average='weighted')\n",
    "\n",
    "print (\"F1 = {:.3f}\".format(f1))\n",
    "\n",
    "print(metrics.classification_report(target, base_predictions))"
   ]
  },
  {
   "cell_type": "markdown",
   "metadata": {},
   "source": [
    "# Классификаторы"
   ]
  },
  {
   "cell_type": "markdown",
   "metadata": {},
   "source": [
    "## LogisticRegression "
   ]
  },
  {
   "cell_type": "code",
   "execution_count": 99,
   "metadata": {
    "scrolled": false
   },
   "outputs": [
    {
     "name": "stdout",
     "output_type": "stream",
     "text": [
      "Best hyper-parameters for accuracy: {'C': 1, 'penalty': 'none', 'tol': 0.001}\n",
      "F1: 1.000\n",
      "Accuracy: 1.000\n",
      "              precision    recall  f1-score   support\n",
      "\n",
      "           0       1.00      1.00      1.00        13\n",
      "           1       1.00      1.00      1.00        15\n",
      "           2       1.00      1.00      1.00         8\n",
      "\n",
      "    accuracy                           1.00        36\n",
      "   macro avg       1.00      1.00      1.00        36\n",
      "weighted avg       1.00      1.00      1.00        36\n",
      "\n"
     ]
    },
    {
     "data": {
      "text/plain": [
       "<sklearn.metrics._plot.confusion_matrix.ConfusionMatrixDisplay at 0x140b1d48>"
      ]
     },
     "execution_count": 99,
     "metadata": {},
     "output_type": "execute_result"
    },
    {
     "data": {
      "image/png": "[encoded data removed]",
      "text/plain": [
       "<Figure size 432x288 with 2 Axes>"
      ]
     },
     "metadata": {
      "needs_background": "light"
     },
     "output_type": "display_data"
    }
   ],
   "source": [
    "from sklearn import linear_model\n",
    "\n",
    "hyper_params = {'penalty': ['l1', 'l2', 'elasticnet', 'none'],\n",
    "                'tol': [1e-3, 1e-4],\n",
    "                'C': [1, 10, 100, 1000]\n",
    "                   }\n",
    "\n",
    "grid = ms.GridSearchCV(linear_model.LogisticRegression(),\n",
    "                       hyper_params,\n",
    "                       refit=True,\n",
    "                       scoring=metrics.make_scorer(metrics.f1_score, average='weighted'),\n",
    "                       cv=ms.StratifiedKFold(n_splits=folds)\n",
    ")\n",
    "\n",
    "grid_best_model = grid.fit(train_data, train_labels)\n",
    "predictions = grid_best_model.predict(test_data)\n",
    "grid_best_model_f1 = metrics.f1_score(test_labels,\n",
    "                                      predictions, \n",
    "                                      average='weighted')\n",
    "grid_best_model_accuracy = metrics.accuracy_score(test_labels, predictions)\n",
    "\n",
    "print(\"Best hyper-parameters for accuracy: {}\".format(grid_best_model.best_params_))\n",
    "print (\"F1: {:.3f}\".format(grid_best_model_f1))\n",
    "print (\"Accuracy: {:.3f}\".format(grid_best_model_accuracy))\n",
    "print (metrics.classification_report(test_labels, predictions))\n",
    "\n",
    "metrics.plot_confusion_matrix(grid_best_model, test_data, test_labels)"
   ]
  },
  {
   "cell_type": "markdown",
   "metadata": {},
   "source": [
    "## SVM "
   ]
  },
  {
   "cell_type": "code",
   "execution_count": 100,
   "metadata": {},
   "outputs": [
    {
     "name": "stdout",
     "output_type": "stream",
     "text": [
      "Best hyper-parameters for accuracy: {'C': 1, 'gamma': 0.001, 'kernel': 'linear'}\n",
      "F1: 0.944\n",
      "Accuracy: 0.944\n",
      "              precision    recall  f1-score   support\n",
      "\n",
      "           0       0.93      1.00      0.96        13\n",
      "           1       1.00      0.87      0.93        15\n",
      "           2       0.89      1.00      0.94         8\n",
      "\n",
      "    accuracy                           0.94        36\n",
      "   macro avg       0.94      0.96      0.94        36\n",
      "weighted avg       0.95      0.94      0.94        36\n",
      "\n"
     ]
    },
    {
     "data": {
      "text/plain": [
       "<sklearn.metrics._plot.confusion_matrix.ConfusionMatrixDisplay at 0x13deddc8>"
      ]
     },
     "execution_count": 100,
     "metadata": {},
     "output_type": "execute_result"
    },
    {
     "data": {
      "image/png": "[encoded data removed]",
      "text/plain": [
       "<Figure size 432x288 with 2 Axes>"
      ]
     },
     "metadata": {
      "needs_background": "light"
     },
     "output_type": "display_data"
    }
   ],
   "source": [
    "hyper_params_svc = {'kernel': ['linear','poly','rbf'],\n",
    "                    'gamma': [1e-3, 1e-4],\n",
    "                    'C': [1, 10, 100, 1000]\n",
    "                   }\n",
    "\n",
    "svm_grid = ms.GridSearchCV(svm.SVC(), \n",
    "                           hyper_params_svc,  # parameters to tune via cross validation\n",
    "                           refit=True,        # fit using all available data at the end, on the best found param combination\n",
    "                           scoring=metrics.make_scorer(metrics.f1_score, average='weighted'), \n",
    "                           cv=ms.StratifiedKFold(n_splits=folds)\n",
    ")\n",
    "\n",
    "svm_grid_best_model = svm_grid.fit(train_data, train_labels)\n",
    "predictions_svm = svm_grid_best_model.predict(test_data)\n",
    "svm_grid_best_model_f1 = metrics.f1_score(test_labels, \n",
    "                      predictions_svm, \n",
    "                      average='weighted')\n",
    "svm_grid_best_model_accuracy = metrics.accuracy_score(test_labels, predictions_svm)\n",
    "\n",
    "print(\"Best hyper-parameters for accuracy: {}\".format(svm_grid_best_model.best_params_))\n",
    "print (\"F1: {:.3f}\".format(svm_grid_best_model_f1))\n",
    "print (\"Accuracy: {:.3f}\".format(svm_grid_best_model_accuracy))\n",
    "print (metrics.classification_report(test_labels, predictions_svm))\n",
    "\n",
    "metrics.plot_confusion_matrix(svm_grid_best_model, test_data, test_labels)"
   ]
  },
  {
   "cell_type": "markdown",
   "metadata": {},
   "source": [
    "# DecisionTreeClassifier"
   ]
  },
  {
   "cell_type": "code",
   "execution_count": 101,
   "metadata": {
    "scrolled": false
   },
   "outputs": [
    {
     "name": "stdout",
     "output_type": "stream",
     "text": [
      "Best hyper-parameters for accuracy: {'max_depth': 10, 'max_features': None, 'min_samples_leaf': 2, 'presort': True}\n",
      "F1: 0.859\n",
      "Accuracy: 0.861\n",
      "              precision    recall  f1-score   support\n",
      "\n",
      "           0       0.81      1.00      0.90        13\n",
      "           1       0.86      0.80      0.83        15\n",
      "           2       1.00      0.75      0.86         8\n",
      "\n",
      "    accuracy                           0.86        36\n",
      "   macro avg       0.89      0.85      0.86        36\n",
      "weighted avg       0.87      0.86      0.86        36\n",
      "\n"
     ]
    },
    {
     "data": {
      "text/plain": [
       "<sklearn.metrics._plot.confusion_matrix.ConfusionMatrixDisplay at 0x16342748>"
      ]
     },
     "execution_count": 101,
     "metadata": {},
     "output_type": "execute_result"
    },
    {
     "data": {
      "image/png": "[encoded data removed]",
      "text/plain": [
       "<Figure size 432x288 with 2 Axes>"
      ]
     },
     "metadata": {
      "needs_background": "light"
     },
     "output_type": "display_data"
    }
   ],
   "source": [
    "from sklearn import tree\n",
    "\n",
    "#неоправданно долго для хорошей f1\n",
    "\n",
    "hyper_params = {'presort':[True, False], \n",
    "                'max_depth' : [ 2, 3, 5, 7, 10], \n",
    "                'max_features' : ['auto', 1, 2, 3, None],\n",
    "                'min_samples_leaf' : [1, 2, 3, 4, 5]}\n",
    "\n",
    "grid = ms.GridSearchCV(tree.DecisionTreeClassifier(),\n",
    "                       hyper_params,\n",
    "                       refit=True,\n",
    "                       scoring=metrics.make_scorer(metrics.f1_score, average='weighted'),\n",
    "                       cv=ms.StratifiedKFold(n_splits=folds)\n",
    ")\n",
    "\n",
    "grid_best_model = grid.fit(train_data, train_labels)\n",
    "predictions = grid_best_model.predict(test_data)\n",
    "grid_best_model_f1 = metrics.f1_score(test_labels,\n",
    "                                      predictions, \n",
    "                                      average='weighted')\n",
    "grid_best_model_accuracy = metrics.accuracy_score(test_labels, predictions)\n",
    "\n",
    "print(\"Best hyper-parameters for accuracy: {}\".format(grid_best_model.best_params_))\n",
    "print (\"F1: {:.3f}\".format(grid_best_model_f1))\n",
    "print (\"Accuracy: {:.3f}\".format(grid_best_model_accuracy))\n",
    "print (metrics.classification_report(test_labels, predictions))\n",
    "\n",
    "metrics.plot_confusion_matrix(grid_best_model, test_data, test_labels)"
   ]
  },
  {
   "cell_type": "markdown",
   "metadata": {},
   "source": [
    "# NaiveBayes"
   ]
  },
  {
   "cell_type": "code",
   "execution_count": 102,
   "metadata": {
    "scrolled": false
   },
   "outputs": [
    {
     "name": "stdout",
     "output_type": "stream",
     "text": [
      "F1: 0.973\n",
      "Accuracy: 0.972\n",
      "              precision    recall  f1-score   support\n",
      "\n",
      "           0       1.00      1.00      1.00        13\n",
      "           1       1.00      0.93      0.97        15\n",
      "           2       0.89      1.00      0.94         8\n",
      "\n",
      "    accuracy                           0.97        36\n",
      "   macro avg       0.96      0.98      0.97        36\n",
      "weighted avg       0.98      0.97      0.97        36\n",
      "\n"
     ]
    },
    {
     "data": {
      "text/plain": [
       "<sklearn.metrics._plot.confusion_matrix.ConfusionMatrixDisplay at 0x1214f2c8>"
      ]
     },
     "execution_count": 102,
     "metadata": {},
     "output_type": "execute_result"
    },
    {
     "data": {
      "image/png": "[encoded data removed]",
      "text/plain": [
       "<Figure size 432x288 with 2 Axes>"
      ]
     },
     "metadata": {
      "needs_background": "light"
     },
     "output_type": "display_data"
    }
   ],
   "source": [
    "from sklearn import naive_bayes\n",
    "\n",
    "hyper_params = {}\n",
    "\n",
    "grid = ms.GridSearchCV(naive_bayes.GaussianNB(),\n",
    "                       hyper_params,\n",
    "                       refit=True,\n",
    "                       scoring=metrics.make_scorer(metrics.f1_score, average='weighted'),\n",
    "                       cv=ms.StratifiedKFold(n_splits=folds)\n",
    ")\n",
    "\n",
    "grid_best_model = grid.fit(train_data, train_labels)\n",
    "predictions = grid_best_model.predict(test_data)\n",
    "grid_best_model_f1 = metrics.f1_score(test_labels,\n",
    "                                      predictions, \n",
    "                                      average='weighted')\n",
    "grid_best_model_accuracy = metrics.accuracy_score(test_labels, predictions)\n",
    "\n",
    "print (\"F1: {:.3f}\".format(grid_best_model_f1))\n",
    "print (\"Accuracy: {:.3f}\".format(grid_best_model_accuracy))\n",
    "print (metrics.classification_report(test_labels, predictions))\n",
    "\n",
    "metrics.plot_confusion_matrix(grid_best_model, test_data, test_labels)"
   ]
  },
  {
   "cell_type": "markdown",
   "metadata": {},
   "source": [
    "# RandomForestClassifier"
   ]
  },
  {
   "cell_type": "code",
   "execution_count": 103,
   "metadata": {
    "scrolled": false
   },
   "outputs": [
    {
     "name": "stdout",
     "output_type": "stream",
     "text": [
      "Best hyper-parameters for accuracy: {'max_depth': 8, 'n_estimators': 100}\n",
      "F1: 0.944\n",
      "Accuracy: 0.944\n",
      "              precision    recall  f1-score   support\n",
      "\n",
      "           0       0.93      1.00      0.96        13\n",
      "           1       1.00      0.87      0.93        15\n",
      "           2       0.89      1.00      0.94         8\n",
      "\n",
      "    accuracy                           0.94        36\n",
      "   macro avg       0.94      0.96      0.94        36\n",
      "weighted avg       0.95      0.94      0.94        36\n",
      "\n"
     ]
    },
    {
     "data": {
      "text/plain": [
       "<sklearn.metrics._plot.confusion_matrix.ConfusionMatrixDisplay at 0x121acd88>"
      ]
     },
     "execution_count": 103,
     "metadata": {},
     "output_type": "execute_result"
    },
    {
     "data": {
      "image/png": "[encoded data removed]",
      "text/plain": [
       "<Figure size 432x288 with 2 Axes>"
      ]
     },
     "metadata": {
      "needs_background": "light"
     },
     "output_type": "display_data"
    }
   ],
   "source": [
    "from sklearn import ensemble\n",
    "\n",
    "hyper_params = {'max_depth' : [None, 8, 10, 13], #максимальная глубина\n",
    "                'n_estimators' : [10, 50, 100, 250]}#количество решающих деревьев\n",
    "\n",
    "grid = ms.GridSearchCV(ensemble.RandomForestClassifier(),\n",
    "                       hyper_params,\n",
    "                       refit=True,\n",
    "                       scoring=metrics.make_scorer(metrics.f1_score, average='weighted'),\n",
    "                       cv=ms.StratifiedKFold(n_splits=folds)\n",
    ")\n",
    "\n",
    "grid_best_model = grid.fit(train_data, train_labels)\n",
    "predictions = grid_best_model.predict(test_data)\n",
    "grid_best_model_f1 = metrics.f1_score(test_labels,\n",
    "                                      predictions, \n",
    "                                      average='weighted')\n",
    "grid_best_model_accuracy = metrics.accuracy_score(test_labels, predictions)\n",
    "\n",
    "print(\"Best hyper-parameters for accuracy: {}\".format(grid_best_model.best_params_))\n",
    "print (\"F1: {:.3f}\".format(grid_best_model_f1))\n",
    "print (\"Accuracy: {:.3f}\".format(grid_best_model_accuracy))\n",
    "print (metrics.classification_report(test_labels, predictions))\n",
    "\n",
    "metrics.plot_confusion_matrix(grid_best_model, test_data, test_labels)"
   ]
  },
  {
   "cell_type": "markdown",
   "metadata": {},
   "source": [
    "# AdaBoostClassifier"
   ]
  },
  {
   "cell_type": "code",
   "execution_count": 104,
   "metadata": {
    "scrolled": false
   },
   "outputs": [
    {
     "name": "stdout",
     "output_type": "stream",
     "text": [
      "Best hyper-parameters for accuracy: {'learning_rate': 0.7, 'n_estimators': 100}\n",
      "F1: 0.861\n",
      "Accuracy: 0.861\n",
      "              precision    recall  f1-score   support\n",
      "\n",
      "           0       0.86      0.92      0.89        13\n",
      "           1       0.81      0.87      0.84        15\n",
      "           2       1.00      0.75      0.86         8\n",
      "\n",
      "    accuracy                           0.86        36\n",
      "   macro avg       0.89      0.85      0.86        36\n",
      "weighted avg       0.87      0.86      0.86        36\n",
      "\n"
     ]
    },
    {
     "data": {
      "text/plain": [
       "<sklearn.metrics._plot.confusion_matrix.ConfusionMatrixDisplay at 0x123f3ec8>"
      ]
     },
     "execution_count": 104,
     "metadata": {},
     "output_type": "execute_result"
    },
    {
     "data": {
      "image/png": "[encoded data removed]",
      "text/plain": [
       "<Figure size 432x288 with 2 Axes>"
      ]
     },
     "metadata": {
      "needs_background": "light"
     },
     "output_type": "display_data"
    }
   ],
   "source": [
    "from sklearn import ensemble\n",
    "\n",
    "hyper_params = {'n_estimators' : [50, 100], #максимальная глубина\n",
    "                'learning_rate' : [1, 0.7, 0.5, 0.1]}  #скорость оубчения (число на которое умножается частная производная ошибки по каждому весу)\n",
    "\n",
    "grid = ms.GridSearchCV(ensemble.AdaBoostClassifier(),\n",
    "                       hyper_params,\n",
    "                       refit=True,\n",
    "                       scoring=metrics.make_scorer(metrics.f1_score, average='weighted'),\n",
    "                       cv=ms.StratifiedKFold(n_splits=folds)\n",
    ")\n",
    "\n",
    "grid_best_model = grid.fit(train_data, train_labels)\n",
    "predictions = grid_best_model.predict(test_data)\n",
    "grid_best_model_f1 = metrics.f1_score(test_labels,\n",
    "                                      predictions, \n",
    "                                      average='weighted')\n",
    "grid_best_model_accuracy = metrics.accuracy_score(test_labels, predictions)\n",
    "\n",
    "print(\"Best hyper-parameters for accuracy: {}\".format(grid_best_model.best_params_))\n",
    "print (\"F1: {:.3f}\".format(grid_best_model_f1))\n",
    "print (\"Accuracy: {:.3f}\".format(grid_best_model_accuracy))\n",
    "print (metrics.classification_report(test_labels, predictions))\n",
    "\n",
    "metrics.plot_confusion_matrix(grid_best_model, test_data, test_labels)"
   ]
  },
  {
   "cell_type": "markdown",
   "metadata": {},
   "source": [
    "# VotingClassifier"
   ]
  },
  {
   "cell_type": "code",
   "execution_count": 105,
   "metadata": {
    "scrolled": false
   },
   "outputs": [
    {
     "name": "stdout",
     "output_type": "stream",
     "text": [
      "Best hyper-parameters for accuracy: {'flatten_transform': True, 'n_jobs': None, 'voting': 'hard'}\n",
      "F1: 0.973\n",
      "Accuracy: 0.972\n",
      "              precision    recall  f1-score   support\n",
      "\n",
      "           0       1.00      1.00      1.00        13\n",
      "           1       1.00      0.93      0.97        15\n",
      "           2       0.89      1.00      0.94         8\n",
      "\n",
      "    accuracy                           0.97        36\n",
      "   macro avg       0.96      0.98      0.97        36\n",
      "weighted avg       0.98      0.97      0.97        36\n",
      "\n"
     ]
    },
    {
     "data": {
      "text/plain": [
       "<sklearn.metrics._plot.confusion_matrix.ConfusionMatrixDisplay at 0x164982c8>"
      ]
     },
     "execution_count": 105,
     "metadata": {},
     "output_type": "execute_result"
    },
    {
     "data": {
      "image/png": "[encoded data removed]",
      "text/plain": [
       "<Figure size 432x288 with 2 Axes>"
      ]
     },
     "metadata": {
      "needs_background": "light"
     },
     "output_type": "display_data"
    }
   ],
   "source": [
    "from sklearn import ensemble\n",
    "from sklearn.linear_model import LogisticRegression\n",
    "from sklearn.naive_bayes import GaussianNB\n",
    "from sklearn.ensemble import RandomForestClassifier\n",
    "\n",
    "hyper_params = {'voting' : ['hard', 'soft'], \n",
    "                'n_jobs' : [None, -1, 1, 2, 3, 4, 8],\n",
    "                'flatten_transform' : [True, False, None]\n",
    "                }\n",
    "\n",
    "grid = ms.GridSearchCV(ensemble.VotingClassifier(estimators=[\n",
    "    ('lr', LogisticRegression()), \n",
    "    ('rf', RandomForestClassifier()), \n",
    "    ('gnb', GaussianNB())]),\n",
    "                       hyper_params,\n",
    "                       refit=True,\n",
    "                       scoring=metrics.make_scorer(metrics.f1_score, average='weighted'),\n",
    "                       cv=ms.StratifiedKFold(n_splits=folds)\n",
    ")\n",
    "\n",
    "grid_best_model = grid.fit(train_data, train_labels)\n",
    "predictions = grid_best_model.predict(test_data)\n",
    "grid_best_model_f1 = metrics.f1_score(test_labels,\n",
    "                                      predictions, \n",
    "                                      average='weighted')\n",
    "grid_best_model_accuracy = metrics.accuracy_score(test_labels, predictions)\n",
    "\n",
    "print(\"Best hyper-parameters for accuracy: {}\".format(grid_best_model.best_params_))\n",
    "print (\"F1: {:.3f}\".format(grid_best_model_f1))\n",
    "print (\"Accuracy: {:.3f}\".format(grid_best_model_accuracy))\n",
    "print (metrics.classification_report(test_labels, predictions))\n",
    "\n",
    "metrics.plot_confusion_matrix(grid_best_model, test_data, test_labels)"
   ]
  }
 ],
 "metadata": {
  "kernelspec": {
   "display_name": "Python 3",
   "language": "python",
   "name": "python3"
  }
 },
 "nbformat": 4,
 "nbformat_minor": 4
}
